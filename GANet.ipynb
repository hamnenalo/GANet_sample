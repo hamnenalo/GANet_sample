{
  "nbformat": 4,
  "nbformat_minor": 0,
  "metadata": {
    "colab": {
      "provenance": [],
      "gpuType": "T4"
    },
    "kernelspec": {
      "name": "python3",
      "display_name": "Python 3"
    },
    "language_info": {
      "name": "python"
    },
    "accelerator": "GPU"
  },
  "cells": [
    {
      "cell_type": "code",
      "execution_count": null,
      "metadata": {
        "colab": {
          "base_uri": "https://localhost:8080/"
        },
        "id": "pGOjVQLMw18G",
        "outputId": "1ac5b455-4b40-4d13-e78c-81cc38ce7105"
      },
      "outputs": [
        {
          "output_type": "stream",
          "name": "stdout",
          "text": [
            "Cloning into 'GANet'...\n",
            "remote: Enumerating objects: 1421, done.\u001b[K\n",
            "remote: Counting objects: 100% (239/239), done.\u001b[K\n",
            "remote: Compressing objects: 100% (153/153), done.\u001b[K\n",
            "remote: Total 1421 (delta 88), reused 204 (delta 73), pack-reused 1182 (from 1)\u001b[K\n",
            "Receiving objects: 100% (1421/1421), 78.23 MiB | 9.00 MiB/s, done.\n",
            "Resolving deltas: 100% (313/313), done.\n"
          ]
        }
      ],
      "source": [
        "!git clone https://github.com/Wolfwjs/GANet.git"
      ]
    },
    {
      "cell_type": "code",
      "source": [
        "%cd GANet"
      ],
      "metadata": {
        "colab": {
          "base_uri": "https://localhost:8080/"
        },
        "id": "OUH5PVmcw6Ak",
        "outputId": "8f0e16ab-54fd-4ba7-d1bc-2e90c25f8f7b"
      },
      "execution_count": null,
      "outputs": [
        {
          "output_type": "stream",
          "name": "stdout",
          "text": [
            "/content/GANet\n"
          ]
        }
      ]
    },
    {
      "cell_type": "code",
      "source": [
        "!pip install -r requirements/build.txt"
      ],
      "metadata": {
        "id": "cowqN1CxxK2w"
      },
      "execution_count": null,
      "outputs": []
    },
    {
      "cell_type": "code",
      "source": [
        "!python setup.py develop"
      ],
      "metadata": {
        "id": "AhwRuFzPw8QY"
      },
      "execution_count": null,
      "outputs": []
    },
    {
      "cell_type": "code",
      "source": [],
      "metadata": {
        "id": "XBIty8fexIQe"
      },
      "execution_count": null,
      "outputs": []
    }
  ]
}